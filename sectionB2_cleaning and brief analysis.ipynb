{
 "cells": [
  {
   "cell_type": "code",
   "execution_count": 75,
   "id": "3077731d",
   "metadata": {},
   "outputs": [],
   "source": [
    "import pandas as pd\n",
    "import numpy as np\n",
    "df = pd.read_csv(\"df.csv\",header=None)"
   ]
  },
  {
   "cell_type": "code",
   "execution_count": 202,
   "id": "100d3052",
   "metadata": {},
   "outputs": [
    {
     "data": {
      "text/html": [
       "<div>\n",
       "<style scoped>\n",
       "    .dataframe tbody tr th:only-of-type {\n",
       "        vertical-align: middle;\n",
       "    }\n",
       "\n",
       "    .dataframe tbody tr th {\n",
       "        vertical-align: top;\n",
       "    }\n",
       "\n",
       "    .dataframe thead th {\n",
       "        text-align: right;\n",
       "    }\n",
       "</style>\n",
       "<table border=\"1\" class=\"dataframe\">\n",
       "  <thead>\n",
       "    <tr style=\"text-align: right;\">\n",
       "      <th></th>\n",
       "      <th>date of post</th>\n",
       "      <th>job title</th>\n",
       "      <th>company name</th>\n",
       "      <th>location</th>\n",
       "      <th>industry</th>\n",
       "      <th>years of experience</th>\n",
       "      <th>requirement</th>\n",
       "      <th>responsibility</th>\n",
       "      <th>job description</th>\n",
       "    </tr>\n",
       "    <tr>\n",
       "      <th>0</th>\n",
       "      <th></th>\n",
       "      <th></th>\n",
       "      <th></th>\n",
       "      <th></th>\n",
       "      <th></th>\n",
       "      <th></th>\n",
       "      <th></th>\n",
       "      <th></th>\n",
       "      <th></th>\n",
       "    </tr>\n",
       "  </thead>\n",
       "  <tbody>\n",
       "    <tr>\n",
       "      <th>1.0</th>\n",
       "      <td>2-Nov-21</td>\n",
       "      <td>Scientist/ Research Scientist for Product deve...</td>\n",
       "      <td>DiagCor Life Science Limited</td>\n",
       "      <td>Kowloon Bay</td>\n",
       "      <td>Others</td>\n",
       "      <td>NaN</td>\n",
       "      <td>['Ph.D. holder in Molecular Biology, Microbiol...</td>\n",
       "      <td>NaN</td>\n",
       "      <td>['Job Duties:', 'Participate in a team for MDx...</td>\n",
       "    </tr>\n",
       "    <tr>\n",
       "      <th>2.0</th>\n",
       "      <td>4-Nov-21</td>\n",
       "      <td>Data Scientist</td>\n",
       "      <td>Neo Derm (HK) Ltd</td>\n",
       "      <td>Tai Koo</td>\n",
       "      <td>Health &amp;amp; Beauty Care</td>\n",
       "      <td>NaN</td>\n",
       "      <td>['Bachelor’s degree or above in Computer Scien...</td>\n",
       "      <td>NaN</td>\n",
       "      <td>['About us:', 'With the trend towards\\xa0Indus...</td>\n",
       "    </tr>\n",
       "    <tr>\n",
       "      <th>3.0</th>\n",
       "      <td>4-Nov-21</td>\n",
       "      <td>Data Analyst Lead</td>\n",
       "      <td>A4lution Limited</td>\n",
       "      <td>Kwun Tong</td>\n",
       "      <td>Others</td>\n",
       "      <td>5 years</td>\n",
       "      <td>['Bachelor Degree or above in Computer Science...</td>\n",
       "      <td>['Work closely with senior management to under...</td>\n",
       "      <td>['Responsibilities:', 'Work closely with senio...</td>\n",
       "    </tr>\n",
       "    <tr>\n",
       "      <th>4.0</th>\n",
       "      <td>4-Nov-21</td>\n",
       "      <td>Data Analyst (at the rank/grade of Technical O...</td>\n",
       "      <td>The University of Hong Kong</td>\n",
       "      <td>Sai Wan</td>\n",
       "      <td>Education</td>\n",
       "      <td>NaN</td>\n",
       "      <td>NaN</td>\n",
       "      <td>NaN</td>\n",
       "      <td>['Data Analyst (at the rank/grade of Technical...</td>\n",
       "    </tr>\n",
       "    <tr>\n",
       "      <th>5.0</th>\n",
       "      <td>4-Nov-21</td>\n",
       "      <td>Graduate Data Scientist</td>\n",
       "      <td>Arup</td>\n",
       "      <td>Kowloon City</td>\n",
       "      <td>Engineering - Others</td>\n",
       "      <td>NaN</td>\n",
       "      <td>NaN</td>\n",
       "      <td>['Analyze engineering discipline business requ...</td>\n",
       "      <td>['Responsibilities:', 'Analyze engineering dis...</td>\n",
       "    </tr>\n",
       "    <tr>\n",
       "      <th>...</th>\n",
       "      <td>...</td>\n",
       "      <td>...</td>\n",
       "      <td>...</td>\n",
       "      <td>...</td>\n",
       "      <td>...</td>\n",
       "      <td>...</td>\n",
       "      <td>...</td>\n",
       "      <td>...</td>\n",
       "      <td>...</td>\n",
       "    </tr>\n",
       "    <tr>\n",
       "      <th>5126.0</th>\n",
       "      <td>7-Oct-21</td>\n",
       "      <td>Developer / Software Engineer - Fintech</td>\n",
       "      <td>Transaction Technologies Limited</td>\n",
       "      <td>Sai Ying Pun</td>\n",
       "      <td>Information Technology</td>\n",
       "      <td>NaN</td>\n",
       "      <td>NaN</td>\n",
       "      <td>NaN</td>\n",
       "      <td>['RESPONSIBILITIES:', 'Work with a team to dev...</td>\n",
       "    </tr>\n",
       "    <tr>\n",
       "      <th>5127.0</th>\n",
       "      <td>7-Oct-21</td>\n",
       "      <td>Medical Lab Technologist I / II</td>\n",
       "      <td>Phase Scientific International Limited</td>\n",
       "      <td>Kwun Tong</td>\n",
       "      <td>Medical/Pharmaceutical</td>\n",
       "      <td>NaN</td>\n",
       "      <td>NaN</td>\n",
       "      <td>NaN</td>\n",
       "      <td>['Overview:', 'We are looking for responsible ...</td>\n",
       "    </tr>\n",
       "    <tr>\n",
       "      <th>5128.0</th>\n",
       "      <td>7-Oct-21</td>\n",
       "      <td>Senior/System Analyst - CRM System</td>\n",
       "      <td>Page Group Hong Kong</td>\n",
       "      <td>NaN</td>\n",
       "      <td>Human Resources Management/Consultancy</td>\n",
       "      <td>NaN</td>\n",
       "      <td>NaN</td>\n",
       "      <td>NaN</td>\n",
       "      <td>['There is now an excellent chance to join in ...</td>\n",
       "    </tr>\n",
       "    <tr>\n",
       "      <th>5129.0</th>\n",
       "      <td>7-Oct-21</td>\n",
       "      <td>QA Manager / Release Manager (finincal project...</td>\n",
       "      <td>Linkers International Limited</td>\n",
       "      <td>Causeway Bay</td>\n",
       "      <td>Human Resources Management/Consultancy</td>\n",
       "      <td>5 years</td>\n",
       "      <td>NaN</td>\n",
       "      <td>NaN</td>\n",
       "      <td>['THE JOB', 'Partner closely with development\\...</td>\n",
       "    </tr>\n",
       "    <tr>\n",
       "      <th>5130.0</th>\n",
       "      <td>7-Oct-21</td>\n",
       "      <td>System Analyst / Technical Consultant</td>\n",
       "      <td>Accentrix Company Limited</td>\n",
       "      <td>Tsim Sha Tsui</td>\n",
       "      <td>Information Technology</td>\n",
       "      <td>5 years</td>\n",
       "      <td>['A university degree in Computer Science, Inf...</td>\n",
       "      <td>['Be responsible for leading consulting &amp;amp; ...</td>\n",
       "      <td>['Position: System Analyst / Technical Consult...</td>\n",
       "    </tr>\n",
       "  </tbody>\n",
       "</table>\n",
       "<p>5130 rows × 9 columns</p>\n",
       "</div>"
      ],
      "text/plain": [
       "0      date of post                                          job title  \\\n",
       "0                                                                        \n",
       "1.0        2-Nov-21  Scientist/ Research Scientist for Product deve...   \n",
       "2.0        4-Nov-21                                     Data Scientist   \n",
       "3.0        4-Nov-21                                  Data Analyst Lead   \n",
       "4.0        4-Nov-21  Data Analyst (at the rank/grade of Technical O...   \n",
       "5.0        4-Nov-21                            Graduate Data Scientist   \n",
       "...             ...                                                ...   \n",
       "5126.0     7-Oct-21            Developer / Software Engineer - Fintech   \n",
       "5127.0     7-Oct-21                    Medical Lab Technologist I / II   \n",
       "5128.0     7-Oct-21                 Senior/System Analyst - CRM System   \n",
       "5129.0     7-Oct-21  QA Manager / Release Manager (finincal project...   \n",
       "5130.0     7-Oct-21              System Analyst / Technical Consultant   \n",
       "\n",
       "0                                 company name       location  \\\n",
       "0                                                               \n",
       "1.0               DiagCor Life Science Limited    Kowloon Bay   \n",
       "2.0                          Neo Derm (HK) Ltd        Tai Koo   \n",
       "3.0                           A4lution Limited      Kwun Tong   \n",
       "4.0                The University of Hong Kong        Sai Wan   \n",
       "5.0                                       Arup   Kowloon City   \n",
       "...                                        ...            ...   \n",
       "5126.0        Transaction Technologies Limited   Sai Ying Pun   \n",
       "5127.0  Phase Scientific International Limited      Kwun Tong   \n",
       "5128.0                    Page Group Hong Kong            NaN   \n",
       "5129.0           Linkers International Limited   Causeway Bay   \n",
       "5130.0               Accentrix Company Limited  Tsim Sha Tsui   \n",
       "\n",
       "0                                     industry years of experience  \\\n",
       "0                                                                    \n",
       "1.0                                     Others                 NaN   \n",
       "2.0                   Health &amp; Beauty Care                 NaN   \n",
       "3.0                                     Others             5 years   \n",
       "4.0                                  Education                 NaN   \n",
       "5.0                       Engineering - Others                 NaN   \n",
       "...                                        ...                 ...   \n",
       "5126.0                  Information Technology                 NaN   \n",
       "5127.0                  Medical/Pharmaceutical                 NaN   \n",
       "5128.0  Human Resources Management/Consultancy                 NaN   \n",
       "5129.0  Human Resources Management/Consultancy             5 years   \n",
       "5130.0                  Information Technology             5 years   \n",
       "\n",
       "0                                             requirement  \\\n",
       "0                                                           \n",
       "1.0     ['Ph.D. holder in Molecular Biology, Microbiol...   \n",
       "2.0     ['Bachelor’s degree or above in Computer Scien...   \n",
       "3.0     ['Bachelor Degree or above in Computer Science...   \n",
       "4.0                                                   NaN   \n",
       "5.0                                                   NaN   \n",
       "...                                                   ...   \n",
       "5126.0                                                NaN   \n",
       "5127.0                                                NaN   \n",
       "5128.0                                                NaN   \n",
       "5129.0                                                NaN   \n",
       "5130.0  ['A university degree in Computer Science, Inf...   \n",
       "\n",
       "0                                          responsibility  \\\n",
       "0                                                           \n",
       "1.0                                                   NaN   \n",
       "2.0                                                   NaN   \n",
       "3.0     ['Work closely with senior management to under...   \n",
       "4.0                                                   NaN   \n",
       "5.0     ['Analyze engineering discipline business requ...   \n",
       "...                                                   ...   \n",
       "5126.0                                                NaN   \n",
       "5127.0                                                NaN   \n",
       "5128.0                                                NaN   \n",
       "5129.0                                                NaN   \n",
       "5130.0  ['Be responsible for leading consulting &amp; ...   \n",
       "\n",
       "0                                         job description  \n",
       "0                                                          \n",
       "1.0     ['Job Duties:', 'Participate in a team for MDx...  \n",
       "2.0     ['About us:', 'With the trend towards\\xa0Indus...  \n",
       "3.0     ['Responsibilities:', 'Work closely with senio...  \n",
       "4.0     ['Data Analyst (at the rank/grade of Technical...  \n",
       "5.0     ['Responsibilities:', 'Analyze engineering dis...  \n",
       "...                                                   ...  \n",
       "5126.0  ['RESPONSIBILITIES:', 'Work with a team to dev...  \n",
       "5127.0  ['Overview:', 'We are looking for responsible ...  \n",
       "5128.0  ['There is now an excellent chance to join in ...  \n",
       "5129.0  ['THE JOB', 'Partner closely with development\\...  \n",
       "5130.0  ['Position: System Analyst / Technical Consult...  \n",
       "\n",
       "[5130 rows x 9 columns]"
      ]
     },
     "execution_count": 202,
     "metadata": {},
     "output_type": "execute_result"
    }
   ],
   "source": [
    "df"
   ]
  },
  {
   "cell_type": "code",
   "execution_count": 77,
   "id": "ef5e7faa",
   "metadata": {},
   "outputs": [],
   "source": [
    "col=df.iloc[0,1:]\n",
    "index=df.iloc[1:,0]\n",
    "df=df.iloc[1:,1:]\n",
    "df.columns=col\n",
    "df.set_index(index,inplace=True)"
   ]
  },
  {
   "cell_type": "code",
   "execution_count": 207,
   "id": "c3ce16a4",
   "metadata": {},
   "outputs": [],
   "source": [
    "df[\"requirement\"][4]=\"missing\""
   ]
  },
  {
   "cell_type": "code",
   "execution_count": 208,
   "id": "c87734fc",
   "metadata": {},
   "outputs": [
    {
     "data": {
      "text/plain": [
       "str"
      ]
     },
     "execution_count": 208,
     "metadata": {},
     "output_type": "execute_result"
    }
   ],
   "source": [
    "type(df[\"requirement\"][4])"
   ]
  },
  {
   "cell_type": "code",
   "execution_count": 209,
   "id": "8c2567ad",
   "metadata": {},
   "outputs": [
    {
     "data": {
      "text/plain": [
       "0\n",
       "1.0       ['Ph.D. holder in Molecular Biology, Microbiol...\n",
       "2.0       ['Bachelor’s degree or above in Computer Scien...\n",
       "3.0       ['Bachelor Degree or above in Computer Science...\n",
       "4.0                                                 missing\n",
       "5.0                                                 missing\n",
       "                                ...                        \n",
       "5126.0                                              missing\n",
       "5127.0                                              missing\n",
       "5128.0                                              missing\n",
       "5129.0                                              missing\n",
       "5130.0    ['A university degree in Computer Science, Inf...\n",
       "Name: requirement, Length: 5130, dtype: object"
      ]
     },
     "execution_count": 209,
     "metadata": {},
     "output_type": "execute_result"
    }
   ],
   "source": [
    "df[\"requirement\"].fillna(\"missing\", inplace=True)"
   ]
  },
  {
   "cell_type": "code",
   "execution_count": 210,
   "id": "1dbb3c25",
   "metadata": {},
   "outputs": [
    {
     "data": {
      "text/plain": [
       "float"
      ]
     },
     "execution_count": 210,
     "metadata": {},
     "output_type": "execute_result"
    }
   ],
   "source": [
    "type(df[\"requirement\"][5])"
   ]
  },
  {
   "cell_type": "code",
   "execution_count": 197,
   "id": "d011ffdd",
   "metadata": {},
   "outputs": [],
   "source": [
    "dreq=df[df[\"responsibility\"].notnull()] #requirement/responsibility/job description"
   ]
  },
  {
   "cell_type": "code",
   "execution_count": 198,
   "id": "2c206729",
   "metadata": {},
   "outputs": [
    {
     "name": "stderr",
     "output_type": "stream",
     "text": [
      "<ipython-input-198-25561f4ad123>:16: SettingWithCopyWarning: \n",
      "A value is trying to be set on a copy of a slice from a DataFrame.\n",
      "Try using .loc[row_indexer,col_indexer] = value instead\n",
      "\n",
      "See the caveats in the documentation: https://pandas.pydata.org/pandas-docs/stable/user_guide/indexing.html#returning-a-view-versus-a-copy\n",
      "  dreq[\"word_req\"]=dreq[\"responsibility\"].apply(extractword)    #requirement/responsibility/job description\n"
     ]
    }
   ],
   "source": [
    "def extractword(i):\n",
    "    #it returns a list of words\n",
    "    result=[]\n",
    "    s=\"\"\n",
    "    for w in range(len(i)):\n",
    "        k=i[w]\n",
    "        if (k.isdigit()==True)|(k.isalpha()==True):\n",
    "            s+=k\n",
    "            if (w==(len(i)-1))&(s!=''):\n",
    "                result.append(s)\n",
    "        elif s!='':\n",
    "            result.append(s)\n",
    "            s=\"\"\n",
    "    return result\n",
    "\n",
    "dreq[\"word_req\"]=dreq[\"responsibility\"].apply(extractword)    #requirement/responsibility/job description"
   ]
  },
  {
   "cell_type": "code",
   "execution_count": 199,
   "id": "81e9bdd0",
   "metadata": {},
   "outputs": [],
   "source": [
    "#popjob = [\"Business Analyst\",\"Data Analyst\",\"Data Engineer\",\"Data Scientist\"]\n",
    "\n",
    "BAreq=[]\n",
    "for i in dreq[dreq['job title']==\"Data Scientist\"][\"word_req\"]: #\"Business Analyst\",\"Data Analyst\",\"Data Engineer\",\"Data Scientist\"\n",
    "    BAreq+=i"
   ]
  },
  {
   "cell_type": "code",
   "execution_count": 200,
   "id": "f75e677c",
   "metadata": {},
   "outputs": [],
   "source": [
    "from collections import defaultdict\n",
    "\n",
    "def leaders(xs, top=10):\n",
    "    counts = defaultdict(int)\n",
    "    for x in xs:\n",
    "        counts[x] += 1\n",
    "    return sorted(counts.items(), reverse=True, key=lambda tup: tup[1])[:top]"
   ]
  },
  {
   "cell_type": "code",
   "execution_count": 201,
   "id": "63fd20a2",
   "metadata": {},
   "outputs": [
    {
     "data": {
      "text/plain": [
       "[('and', 44),\n",
       " ('to', 22),\n",
       " ('data', 21),\n",
       " ('business', 13),\n",
       " ('as', 11),\n",
       " ('with', 11),\n",
       " ('of', 10),\n",
       " ('the', 9),\n",
       " ('or', 9),\n",
       " ('in', 8),\n",
       " ('solution', 7),\n",
       " ('experience', 7),\n",
       " ('such', 7),\n",
       " ('a', 6),\n",
       " ('big', 5),\n",
       " ('through', 5),\n",
       " ('statistical', 5),\n",
       " ('testing', 5),\n",
       " ('new', 5),\n",
       " ('analysis', 4),\n",
       " ('related', 4),\n",
       " ('side', 4),\n",
       " ('predictive', 4),\n",
       " ('analyses', 4),\n",
       " ('A', 4),\n",
       " ('solutions', 3),\n",
       " ('build', 3),\n",
       " ('development', 3),\n",
       " ('teams', 3),\n",
       " ('system', 3),\n",
       " ('Computer', 3),\n",
       " ('Science', 3),\n",
       " ('other', 3),\n",
       " ('be', 3),\n",
       " ('able', 3),\n",
       " ('your', 3),\n",
       " ('prescriptive', 3),\n",
       " ('models', 3),\n",
       " ('turn', 3),\n",
       " ('into', 3),\n",
       " ('actionable', 3),\n",
       " ('insights', 3),\n",
       " ('Unlock', 3),\n",
       " ('operational', 3),\n",
       " ('efficiency', 3),\n",
       " ('optimization', 3),\n",
       " ('robust', 3),\n",
       " ('Drive', 3),\n",
       " ('smarter', 3),\n",
       " ('B', 3),\n",
       " ('Explore', 3),\n",
       " ('master', 3),\n",
       " ('technologies', 3),\n",
       " ('advance', 3),\n",
       " ('customer', 3),\n",
       " ('recommenders', 3),\n",
       " ('risk', 3),\n",
       " ('mitigation', 3),\n",
       " ('fraud', 3),\n",
       " ('detection', 3),\n",
       " ('Requirements', 3),\n",
       " ('degree', 3),\n",
       " ('different', 2),\n",
       " ('units', 2),\n",
       " ('develop', 2),\n",
       " ('R', 2),\n",
       " ('SQL', 2),\n",
       " ('requirements', 2),\n",
       " ('local', 2),\n",
       " ('are', 2),\n",
       " ('Requirement', 2),\n",
       " ('years', 2),\n",
       " ('software', 2),\n",
       " ('will', 2),\n",
       " ('knowledge', 2),\n",
       " ('relevant', 2),\n",
       " ('communicate', 2),\n",
       " ('present', 2),\n",
       " ('on', 2),\n",
       " ('you', 2)]"
      ]
     },
     "execution_count": 201,
     "metadata": {},
     "output_type": "execute_result"
    }
   ],
   "source": [
    "leaders(BAreq,top=80)"
   ]
  },
  {
   "cell_type": "code",
   "execution_count": 32,
   "id": "544cfa13",
   "metadata": {},
   "outputs": [
    {
     "data": {
      "text/plain": [
       "0\n",
       "1.0        True\n",
       "2.0        True\n",
       "3.0       False\n",
       "4.0        True\n",
       "5.0       False\n",
       "          ...  \n",
       "5126.0     True\n",
       "5127.0     True\n",
       "5128.0     True\n",
       "5129.0     True\n",
       "5130.0    False\n",
       "Name: responsibility, Length: 5130, dtype: bool"
      ]
     },
     "execution_count": 32,
     "metadata": {},
     "output_type": "execute_result"
    }
   ],
   "source": [
    "df[\"responsibility\"].isnull()"
   ]
  },
  {
   "cell_type": "code",
   "execution_count": 53,
   "id": "653e7803",
   "metadata": {},
   "outputs": [],
   "source": []
  },
  {
   "cell_type": "code",
   "execution_count": 55,
   "id": "3112eea0",
   "metadata": {},
   "outputs": [],
   "source": []
  },
  {
   "cell_type": "code",
   "execution_count": 57,
   "id": "aec14987",
   "metadata": {},
   "outputs": [],
   "source": []
  },
  {
   "cell_type": "code",
   "execution_count": null,
   "id": "960fc709",
   "metadata": {},
   "outputs": [],
   "source": []
  },
  {
   "cell_type": "code",
   "execution_count": null,
   "id": "692feea2",
   "metadata": {},
   "outputs": [],
   "source": []
  },
  {
   "cell_type": "code",
   "execution_count": null,
   "id": "770a83f3",
   "metadata": {},
   "outputs": [],
   "source": []
  },
  {
   "cell_type": "code",
   "execution_count": null,
   "id": "34eaf5d5",
   "metadata": {},
   "outputs": [],
   "source": []
  },
  {
   "cell_type": "code",
   "execution_count": null,
   "id": "f49e4bd2",
   "metadata": {},
   "outputs": [],
   "source": []
  },
  {
   "cell_type": "code",
   "execution_count": null,
   "id": "231db01a",
   "metadata": {},
   "outputs": [],
   "source": []
  },
  {
   "cell_type": "code",
   "execution_count": null,
   "id": "e12d6d0d",
   "metadata": {},
   "outputs": [],
   "source": []
  },
  {
   "cell_type": "code",
   "execution_count": null,
   "id": "3159fa20",
   "metadata": {},
   "outputs": [],
   "source": []
  },
  {
   "cell_type": "code",
   "execution_count": null,
   "id": "75cfb326",
   "metadata": {},
   "outputs": [],
   "source": []
  },
  {
   "cell_type": "code",
   "execution_count": null,
   "id": "b2a1ebad",
   "metadata": {},
   "outputs": [],
   "source": []
  }
 ],
 "metadata": {
  "kernelspec": {
   "display_name": "Python 3",
   "language": "python",
   "name": "python3"
  },
  "language_info": {
   "codemirror_mode": {
    "name": "ipython",
    "version": 3
   },
   "file_extension": ".py",
   "mimetype": "text/x-python",
   "name": "python",
   "nbconvert_exporter": "python",
   "pygments_lexer": "ipython3",
   "version": "3.8.8"
  }
 },
 "nbformat": 4,
 "nbformat_minor": 5
}
