{
 "cells": [
  {
   "cell_type": "code",
   "execution_count": 37,
   "id": "4529fc32",
   "metadata": {},
   "outputs": [],
   "source": [
    "from bs4 import BeautifulSoup\n",
    "import requests\n",
    "import os\n",
    "import re\n",
    "import pandas as pd"
   ]
  },
  {
   "cell_type": "code",
   "execution_count": 2,
   "id": "e34f3cb8",
   "metadata": {},
   "outputs": [
    {
     "name": "stdout",
     "output_type": "stream",
     "text": [
      "Directory already exists [WinError 183] Cannot create a file when that file already exists: 'data'\n"
     ]
    }
   ],
   "source": [
    "#try to create a new folder 'data'\n",
    "try:\n",
    "    os.mkdir('data')\n",
    "    print(\"directory created\")\n",
    "except Exception as e: #'e' means for the same instruction - in this case, the directory 'data'\n",
    "    print(f\"Directory already exists {e}\")\n",
    "    pass"
   ]
  },
  {
   "cell_type": "code",
   "execution_count": 38,
   "id": "f833f6ca",
   "metadata": {},
   "outputs": [],
   "source": [
    "def save(t,n):\n",
    "    #input the job page content as soup object t\n",
    "    #convert t to string s\n",
    "    s=t.prettify()\n",
    "    \n",
    "    #save the job page content in a text file number n as string\n",
    "    with open(f\"data/{n}.txt\",\"w\",encoding='utf-8') as g:\n",
    "        g.write(s)\n",
    "    return"
   ]
  },
  {
   "cell_type": "code",
   "execution_count": 39,
   "id": "00413f0d",
   "metadata": {},
   "outputs": [],
   "source": [
    "def scrape(x,y):\n",
    "    #to scrape the pages from page x to page y where y>=x.\n",
    "    #it returns a list of soup objects of job page content\n",
    "    \n",
    "    #get the link\n",
    "    URL = \"https://hk.jobsdb.com/hk/search-jobs/data-scientist/\"\n",
    "    \n",
    "    for p in range(x,y+1):\n",
    "        #to make valid URL e.g https://hk.jobsdb.com/hk/search-jobs/data-science/1\n",
    "        nextlink = URL+str(p)\n",
    "        \n",
    "        #if the link exists,get the resources\n",
    "        if nextlink:\n",
    "            html = requests.get(nextlink)\n",
    "            soup = BeautifulSoup(html.text, \"html.parser\")\n",
    "\n",
    "            #to find the links(directing to the job pages) from the resources\n",
    "            #list l stores all the links\n",
    "            l=[]\n",
    "            for i in soup.find_all('a', href=True):\n",
    "                if ('hk/en/job' in i['href'])&(i['href'][0]==\"/\"):\n",
    "                    l.append(\"https://hk.jobsdb.com\"+i['href'])\n",
    "\n",
    "            #go to each job page by each link and get the content\n",
    "            #result (list) stores the job contents\n",
    "            result=[]\n",
    "            for k in range(len(l)):\n",
    "                i=l[k]\n",
    "                #print(\"going to\",i) #for checking only\n",
    "                subhtml = requests.get(i)\n",
    "                #print(\"success or not?\",subhtml) #for checking only\n",
    "                jobcontent = BeautifulSoup(subhtml.text, \"html.parser\")\n",
    "                result.append(jobcontent)\n",
    "                save(jobcontent,(p-1)*30+k+1)\n",
    "                \n",
    "        \n",
    "        #if the link does not exist, it breaks the for loop.\n",
    "        #i found that if the link does not exist, the DB website will\n",
    "          #redirect you to page 1 automatically, which makes this part of code\n",
    "          #does not work.\n",
    "        else:\n",
    "            print(\"Page\",p,\"does not exist.\")\n",
    "            break\n",
    "    return result"
   ]
  },
  {
   "cell_type": "code",
   "execution_count": 40,
   "id": "328f071a",
   "metadata": {},
   "outputs": [],
   "source": [
    "#scrape the pages from 133 to 171\n",
    "scrape(133,171)"
   ]
  },
  {
   "cell_type": "markdown",
   "id": "cbcb0112",
   "metadata": {},
   "source": [
    "section I: scrapping and saving as text\n",
    "_______________________________________________\n",
    "section II: gathering data"
   ]
  },
  {
   "cell_type": "code",
   "execution_count": 41,
   "id": "aa88375d",
   "metadata": {},
   "outputs": [],
   "source": [
    "#to read the job content.txt:\n",
    "def read(casenum):\n",
    "    with open(f\"data/{casenum}.txt\",\"r\",encoding='utf-8') as onlyread:\n",
    "        text=onlyread.read()\n",
    "    with open(f\"data/{casenum}.txt\",\"r\",encoding='utf-8') as onlyread:\n",
    "        line=onlyread.readlines()\n",
    "    soup = BeautifulSoup(text, \"html.parser\")\n",
    "    return text,line,soup"
   ]
  },
  {
   "cell_type": "code",
   "execution_count": 42,
   "id": "779f9ca6",
   "metadata": {},
   "outputs": [],
   "source": [
    "#transferred\n",
    "def wordlocation(text,line,word,min_line,max_line):\n",
    "    #it returns all the non-coding sentence(str) in a list after the target word\n",
    "    #if max=min, a string is returned (but not a list)\n",
    "    \n",
    "    #text,line: pass variable text and line to the function\n",
    "    #word: input the target word\n",
    "    #min/max: the range of the non-coding sentence after the target word\n",
    "    \n",
    "    s=str(re.search(word,text))\n",
    "    l=re.findall('\\d+', s)\n",
    "    if l==[]:\n",
    "        #print(\"the word does not exist, return none\") #for checking only\n",
    "        return\n",
    "    g=text[:int(l[1])+1].count(\"\\n\")\n",
    "\n",
    "    p=1\n",
    "    result=[]\n",
    "    for j in range(g+1,g+60):\n",
    "        if line[j].strip()=='':\n",
    "            continue\n",
    "        \n",
    "        if line[j].strip()[0]!=\"<\":\n",
    "            if (\"Additional Information\" in line[j].strip())==True:\n",
    "                #print(\"already in add. info part\") #for checking only\n",
    "                if p==1:\n",
    "                    return\n",
    "                else:\n",
    "                    if max_line==min_line:\n",
    "                        return\n",
    "                    else:\n",
    "                        return result\n",
    "            \n",
    "            if line[j].strip()==\"N/A\":\n",
    "                #print(\"they wrote N/A\") #for checking only\n",
    "                if p==1:\n",
    "                    return\n",
    "                else:\n",
    "                    if max_line==min_line:\n",
    "                        return\n",
    "                    else:\n",
    "                        return result\n",
    "            \n",
    "            if (p<=max_line)&(p>=min_line)&(len(line[j].strip())<800):\n",
    "                if max_line==min_line:\n",
    "                    return line[j].strip()\n",
    "                else:\n",
    "                    result.append(line[j].strip())\n",
    "                    if p==max_line:\n",
    "                        return result    \n",
    "            p+=1\n",
    "\n",
    "    #print(\"end of search. return none if nth is found. return a list if sth is found.\") #for checking only\n",
    "    if max_line==min_line:\n",
    "        return\n",
    "    else:\n",
    "        if result==[]:\n",
    "            return\n",
    "        else:\n",
    "            return result"
   ]
  },
  {
   "cell_type": "code",
   "execution_count": 43,
   "id": "b4409147",
   "metadata": {},
   "outputs": [],
   "source": [
    "#find post date. It returns date(str) in dd-mmm-yy (date,month,year format)\n",
    "def date(text):\n",
    "    s=str(re.search(\"Posted on\",text))\n",
    "    if s==None:\n",
    "        s=str(re.search(\"Posted\",text))\n",
    "        if s==None:\n",
    "            return\n",
    "        else:\n",
    "            return \"4-Nov-21\"\n",
    "    else:\n",
    "        datelist=re.findall('\\d+', s)\n",
    "        y=text[int(datelist[1])+1:int(datelist[1])+10].strip()\n",
    "        if text.strip()[0].isdigit()==False:\n",
    "            s=str(re.search(\"Posted\",text))\n",
    "            if s==None:\n",
    "                return\n",
    "            else:\n",
    "                return \"04-Nov-21\"\n",
    "        \n",
    "        return y"
   ]
  },
  {
   "cell_type": "code",
   "execution_count": 44,
   "id": "cabb070f",
   "metadata": {},
   "outputs": [],
   "source": [
    "#find job title. It returns a string\n",
    "def job(soup):\n",
    "    return soup.find('h1').text.strip()"
   ]
  },
  {
   "cell_type": "code",
   "execution_count": 45,
   "id": "7080b466",
   "metadata": {},
   "outputs": [],
   "source": [
    "#it returns company name in string\n",
    "def company(soup):\n",
    "    longclass=\"sx2jih0 zcydq82q _18qlyvc0 _18qlyvcv _18qlyvc2 _1d0g9qk4 _18qlyvc9\"\n",
    "    return soup.find('span',class_=longclass).find_next('span',class_=longclass).text.strip()"
   ]
  },
  {
   "cell_type": "code",
   "execution_count": 46,
   "id": "36e47143",
   "metadata": {},
   "outputs": [],
   "source": [
    "#find location in string\n",
    "def location(soup):\n",
    "    y = soup.find('div',class_=\"sx2jih0 zcydq832\").text\n",
    "    if y==None:\n",
    "        return\n",
    "    else:\n",
    "        return y.strip()"
   ]
  },
  {
   "cell_type": "code",
   "execution_count": 47,
   "id": "4762c8d4",
   "metadata": {},
   "outputs": [],
   "source": [
    "#find industry in string\n",
    "def industry(text,line):\n",
    "    s=str(re.search(\"Additional Company Information\\n\",text))\n",
    "    l=re.findall('\\d+', s)\n",
    "    g=text[:int(l[1])+1].count(\"\\n\")\n",
    "    \n",
    "    p=0\n",
    "    for j in range(g,g+20):\n",
    "        if line[j].strip()[0]!=\"<\":\n",
    "            p+=1\n",
    "        if p==2:\n",
    "            return line[j].strip()\n",
    "    #print(\"no industry found. return none\") #for checking only\n",
    "    return"
   ]
  },
  {
   "cell_type": "code",
   "execution_count": 48,
   "id": "37bb2248",
   "metadata": {},
   "outputs": [],
   "source": [
    "#find years of experience\n",
    "def exp(text,line):\n",
    "    return wordlocation(text,line,\"Years of Experience\\n\",1,1)"
   ]
  },
  {
   "cell_type": "code",
   "execution_count": 49,
   "id": "15922e73",
   "metadata": {},
   "outputs": [],
   "source": [
    "#find requirements in list\n",
    "def req(text,line):\n",
    "    word=[\"Requirements:\",\"Requirements\",\"Requirement\",\"requirements:\",\"requirements\",\"requirement\",\"REQUIREMENT\"]\n",
    "    \n",
    "    for j in word:\n",
    "        k = wordlocation(text,line,j,1,20)\n",
    "        if (k!=[])|(k!=None):\n",
    "            return k\n",
    "    return"
   ]
  },
  {
   "cell_type": "code",
   "execution_count": 50,
   "id": "e127d83e",
   "metadata": {},
   "outputs": [],
   "source": [
    "#find responsibilities in list\n",
    "def res(text,line):\n",
    "    word=[\"Responsibilities:\",\"Responsibilities\",\"responsibilities:\",\"responsibilities\",\"responsibility\",\"Responsibility\",\"RESPONSIBILIT\"]\n",
    "    \n",
    "    for j in word:\n",
    "        k = wordlocation(text,line,j,1,20)\n",
    "        if (k!=[])|(k!=None):\n",
    "            return k\n",
    "    return"
   ]
  },
  {
   "cell_type": "code",
   "execution_count": 51,
   "id": "91667be9",
   "metadata": {},
   "outputs": [],
   "source": [
    "#find job description\n",
    "def descri(text,line):\n",
    "    return wordlocation(text,line,\"Job Description\",1,80)"
   ]
  },
  {
   "cell_type": "code",
   "execution_count": 52,
   "id": "4f331681",
   "metadata": {},
   "outputs": [],
   "source": [
    "#find the job case information,initial_casenum<=final_casenum\n",
    "def jobinfo(initial_casenum,final_casenum):\n",
    "\n",
    "    for i in range(initial_casenum,final_casenum+1):\n",
    "        text,line,soup=read(i)\n",
    "\n",
    "        print(\"job case:\",i)\n",
    "        print(\"date:\",date(text))\n",
    "        print(\"job title:\",job(soup))\n",
    "        print(\"company name:\",company(soup))\n",
    "        print(\"location:\",location(soup))\n",
    "        print(\"industry:\",industry(text,line))\n",
    "        print(\"yrs of exp:\",exp(text,line))\n",
    "        print(\"requirements=>\",req(text,line),\"\\n\")\n",
    "        print(\"responsibilities=>\",res(text,line),\"\\n\")\n",
    "        print(\"job description=>\",descri(text,line),\"\\n\")\n",
    "        print(\"______________________The end________________________\")\n",
    "    return"
   ]
  },
  {
   "cell_type": "code",
   "execution_count": 18,
   "id": "95198ee2",
   "metadata": {},
   "outputs": [],
   "source": [
    "###summary of functions:\n",
    "#read(casenum): return text,line,soup\n",
    "#date(text): return str(dd-mmm-yy) / none\n",
    "#job(soup): return string\n",
    "#company(soup): return string\n",
    "#location(soup): return string / none\n",
    "#industry(text,line): return string / none\n",
    "#exp(text,line): return string / none\n",
    "#req(text,line): return string / list / none\n",
    "#res(text,line): return string / list / none\n",
    "#descri(text,line): return list / none\n",
    "#jobinfo(initial_casenum,final_casenum): print all the cases. return none."
   ]
  },
  {
   "cell_type": "markdown",
   "id": "92549990",
   "metadata": {},
   "source": [
    "section II: gathering data\n",
    "_________________________________________\n",
    "section III: finding abnormal job case"
   ]
  },
  {
   "cell_type": "markdown",
   "id": "c9c2557b",
   "metadata": {},
   "source": [
    "******************please read section A: appendix************************\n",
    "In some cases we could not find any requirements. We figured out the reasons."
   ]
  },
  {
   "cell_type": "markdown",
   "id": "ed881ecc",
   "metadata": {},
   "source": [
    "section III: finding abnormal job case\n",
    "______________________________________________________\n",
    "section IV: data frame"
   ]
  },
  {
   "cell_type": "code",
   "execution_count": 53,
   "id": "c65dd924",
   "metadata": {},
   "outputs": [],
   "source": [
    "#it reads the job contents and returns a dataframe\n",
    "def ourdf(initial_casenumber,final_casenumber):\n",
    "    try:\n",
    "        read(final_casenumber)\n",
    "    except Exception as e: #'e' means for the same instruction - in this case, the directory 'data'\n",
    "        print(f\"the file {final_casenumber} doesn't exist ah bro~~ {e}\")\n",
    "        pass\n",
    "    \n",
    "    col=[\"date of post\",\"job title\",\"company name\",\"location\",\"industry\",\"years of experience\",\"requirement\",\"responsibility\",\"job description\"]\n",
    "    df = pd.DataFrame(columns=col,index=range(initial_casenumber,final_casenumber+1))\n",
    "\n",
    "    for i in range(initial_casenumber,final_casenumber+1):\n",
    "        text,line,soup=read(i)\n",
    "\n",
    "        df.loc[i,\"date of post\"]=date(text)\n",
    "        df.loc[i,\"job title\"]=job(soup)\n",
    "        df.loc[i,\"company name\"]=company(soup)\n",
    "        df.loc[i,\"location\"]=location(soup)\n",
    "        df.loc[i,\"industry\"]=industry(text,line)\n",
    "        df.loc[i,\"years of experience\"]=exp(text,line)\n",
    "        df.loc[i,\"requirement\"]=req(text,line)\n",
    "        df.loc[i,\"responsibility\"]=res(text,line)\n",
    "        df.loc[i,\"job description\"]=descri(text,line)\n",
    "        \n",
    "        print(\"case number\",i,\": done\")\n",
    "    return df"
   ]
  },
  {
   "cell_type": "code",
   "execution_count": 20,
   "id": "5d897a12",
   "metadata": {},
   "outputs": [],
   "source": [
    "df_kent = ourdf(3871,5130)\n",
    "df_kent.to_csv(path_or_buf=\"df_kent.csv\")\n",
    "\n",
    "#Each groupmate scraped different set of data and generated their own dataframe\n",
    "#We combined the dataframe in the next section (section B:clean)"
   ]
  },
  {
   "cell_type": "code",
   "execution_count": 54,
   "id": "28e1fc77",
   "metadata": {
    "scrolled": false
   },
   "outputs": [
    {
     "name": "stdout",
     "output_type": "stream",
     "text": [
      "case number 269 : done\n",
      "csv file saved!\n"
     ]
    }
   ],
   "source": [
    "df269 = ourdf(269,269)\n",
    "df269.to_csv(path_or_buf=\"df269.csv\")\n",
    "print(\"csv file saved!\")"
   ]
  },
  {
   "cell_type": "code",
   "execution_count": null,
   "id": "c77566d8",
   "metadata": {},
   "outputs": [],
   "source": [
    "#___________________________all the codes below are miscellaneous______\n",
    "jobinfo(4136,4136)"
   ]
  },
  {
   "cell_type": "code",
   "execution_count": 33,
   "id": "2101af11",
   "metadata": {},
   "outputs": [
    {
     "data": {
      "text/plain": [
       "'04-Nov-21'"
      ]
     },
     "execution_count": 33,
     "metadata": {},
     "output_type": "execute_result"
    }
   ],
   "source": [
    "text,line,soup=read(4136)\n",
    "date(text)"
   ]
  },
  {
   "cell_type": "code",
   "execution_count": 29,
   "id": "c2018d25",
   "metadata": {},
   "outputs": [
    {
     "name": "stdout",
     "output_type": "stream",
     "text": [
      "job case: 269\n",
      "date: 04-Nov-21\n",
      "job title: Customer Service/Business Analyst\n",
      "company name: International Transport Information Systems Limited\n",
      "location: Kowloon Bay\n",
      "industry: Information Technology\n",
      "yrs of exp: 1 year\n",
      "requirements=> None \n",
      "\n",
      "responsibilities=> None \n",
      "\n",
      "job description=> ['Job Description:', '- Support customers in daily usage of ITIS software packages through phone call and email', '- Gather preliminary information and pass to second line support', '- Understand new requests from customers on ITIS software packages', '- Conduct user testing on ITIS software packages', '- Provide user training on ITIS software packages', '- Prepare and maintain user documentation, such as user manual,training manual, etc.', 'Job Requirement:', '- With 1 year or above relevant experience;', '- Knowledge in logistics, freight forwarding, and transportation is a plus;', '- Responsive, good communication skill, highly adaptable and open to new tasks/ exposure;', '- Hands-on word processing skill in English and/or Chinese;', '- Good command of spoken &amp; written English and/or Chinese'] \n",
      "\n",
      "______________________The end________________________\n"
     ]
    }
   ],
   "source": [
    "text,line,soup=read(269)\n",
    "jobinfo(269,269)"
   ]
  },
  {
   "cell_type": "code",
   "execution_count": 30,
   "id": "64214030",
   "metadata": {},
   "outputs": [
    {
     "data": {
      "text/plain": [
       "['Job Description:',\n",
       " '- Support customers in daily usage of ITIS software packages through phone call and email',\n",
       " '- Gather preliminary information and pass to second line support',\n",
       " '- Understand new requests from customers on ITIS software packages',\n",
       " '- Conduct user testing on ITIS software packages',\n",
       " '- Provide user training on ITIS software packages',\n",
       " '- Prepare and maintain user documentation, such as user manual,training manual, etc.',\n",
       " 'Job Requirement:',\n",
       " '- With 1 year or above relevant experience;',\n",
       " '- Knowledge in logistics, freight forwarding, and transportation is a plus;',\n",
       " '- Responsive, good communication skill, highly adaptable and open to new tasks/ exposure;',\n",
       " '- Hands-on word processing skill in English and/or Chinese;',\n",
       " '- Good command of spoken &amp; written English and/or Chinese']"
      ]
     },
     "execution_count": 30,
     "metadata": {},
     "output_type": "execute_result"
    }
   ],
   "source": [
    "descri(text,line)"
   ]
  },
  {
   "cell_type": "code",
   "execution_count": null,
   "id": "2e4c9a5e",
   "metadata": {},
   "outputs": [],
   "source": []
  },
  {
   "cell_type": "code",
   "execution_count": null,
   "id": "01142c51",
   "metadata": {},
   "outputs": [],
   "source": []
  },
  {
   "cell_type": "code",
   "execution_count": null,
   "id": "9fa8a80f",
   "metadata": {},
   "outputs": [],
   "source": []
  },
  {
   "cell_type": "code",
   "execution_count": null,
   "id": "818fcf52",
   "metadata": {},
   "outputs": [],
   "source": []
  },
  {
   "cell_type": "code",
   "execution_count": null,
   "id": "63bf1a98",
   "metadata": {},
   "outputs": [],
   "source": []
  },
  {
   "cell_type": "code",
   "execution_count": null,
   "id": "d2f58392",
   "metadata": {},
   "outputs": [],
   "source": []
  },
  {
   "cell_type": "code",
   "execution_count": 36,
   "id": "3be331a7",
   "metadata": {},
   "outputs": [
    {
     "name": "stdout",
     "output_type": "stream",
     "text": [
      "1\n",
      "y 2\n",
      "3\n"
     ]
    }
   ],
   "source": []
  },
  {
   "cell_type": "code",
   "execution_count": null,
   "id": "16c1d8e2",
   "metadata": {},
   "outputs": [],
   "source": []
  },
  {
   "cell_type": "code",
   "execution_count": null,
   "id": "51fd27de",
   "metadata": {},
   "outputs": [],
   "source": []
  },
  {
   "cell_type": "code",
   "execution_count": null,
   "id": "52eeff93",
   "metadata": {},
   "outputs": [],
   "source": []
  },
  {
   "cell_type": "code",
   "execution_count": null,
   "id": "491b0ed0",
   "metadata": {},
   "outputs": [],
   "source": []
  },
  {
   "cell_type": "code",
   "execution_count": null,
   "id": "e9b2e95e",
   "metadata": {},
   "outputs": [],
   "source": []
  }
 ],
 "metadata": {
  "kernelspec": {
   "display_name": "Python 3 (ipykernel)",
   "language": "python",
   "name": "python3"
  },
  "language_info": {
   "codemirror_mode": {
    "name": "ipython",
    "version": 3
   },
   "file_extension": ".py",
   "mimetype": "text/x-python",
   "name": "python",
   "nbconvert_exporter": "python",
   "pygments_lexer": "ipython3",
   "version": "3.9.7"
  }
 },
 "nbformat": 4,
 "nbformat_minor": 5
}
